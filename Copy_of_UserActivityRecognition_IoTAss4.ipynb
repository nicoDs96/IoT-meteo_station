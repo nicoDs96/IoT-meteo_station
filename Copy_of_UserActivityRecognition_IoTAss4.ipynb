{
  "nbformat": 4,
  "nbformat_minor": 0,
  "metadata": {
    "colab": {
      "name": "Copy of UserActivityRecognition-IoTAss4.ipynb",
      "provenance": [],
      "collapsed_sections": [],
      "authorship_tag": "ABX9TyPiJYgjHtCZhepTt4curfnl",
      "include_colab_link": true
    },
    "kernelspec": {
      "name": "python3",
      "display_name": "Python 3"
    },
    "widgets": {
      "application/vnd.jupyter.widget-state+json": {
        "b6f018fab43e47d0a9cbc8620ce4685f": {
          "model_module": "@jupyter-widgets/controls",
          "model_name": "HBoxModel",
          "state": {
            "_view_name": "HBoxView",
            "_dom_classes": [],
            "_model_name": "HBoxModel",
            "_view_module": "@jupyter-widgets/controls",
            "_model_module_version": "1.5.0",
            "_view_count": null,
            "_view_module_version": "1.5.0",
            "box_style": "",
            "layout": "IPY_MODEL_c6a5ec1fdac140408614e3cade3e1e5d",
            "_model_module": "@jupyter-widgets/controls",
            "children": [
              "IPY_MODEL_f942fd82753b4ff2b9b5cf0a6b364a1d",
              "IPY_MODEL_6374ad207a1e4e6ab361722c9fe5c4d5"
            ]
          }
        },
        "c6a5ec1fdac140408614e3cade3e1e5d": {
          "model_module": "@jupyter-widgets/base",
          "model_name": "LayoutModel",
          "state": {
            "_view_name": "LayoutView",
            "grid_template_rows": null,
            "right": null,
            "justify_content": null,
            "_view_module": "@jupyter-widgets/base",
            "overflow": null,
            "_model_module_version": "1.2.0",
            "_view_count": null,
            "flex_flow": null,
            "width": null,
            "min_width": null,
            "border": null,
            "align_items": null,
            "bottom": null,
            "_model_module": "@jupyter-widgets/base",
            "top": null,
            "grid_column": null,
            "overflow_y": null,
            "overflow_x": null,
            "grid_auto_flow": null,
            "grid_area": null,
            "grid_template_columns": null,
            "flex": null,
            "_model_name": "LayoutModel",
            "justify_items": null,
            "grid_row": null,
            "max_height": null,
            "align_content": null,
            "visibility": null,
            "align_self": null,
            "height": null,
            "min_height": null,
            "padding": null,
            "grid_auto_rows": null,
            "grid_gap": null,
            "max_width": null,
            "order": null,
            "_view_module_version": "1.2.0",
            "grid_template_areas": null,
            "object_position": null,
            "object_fit": null,
            "grid_auto_columns": null,
            "margin": null,
            "display": null,
            "left": null
          }
        },
        "f942fd82753b4ff2b9b5cf0a6b364a1d": {
          "model_module": "@jupyter-widgets/controls",
          "model_name": "FloatProgressModel",
          "state": {
            "_view_name": "ProgressView",
            "style": "IPY_MODEL_0bd5e61a099f416fbb59ad331f11512a",
            "_dom_classes": [],
            "description": "100%",
            "_model_name": "FloatProgressModel",
            "bar_style": "success",
            "max": 150,
            "_view_module": "@jupyter-widgets/controls",
            "_model_module_version": "1.5.0",
            "value": 150,
            "_view_count": null,
            "_view_module_version": "1.5.0",
            "orientation": "horizontal",
            "min": 0,
            "description_tooltip": null,
            "_model_module": "@jupyter-widgets/controls",
            "layout": "IPY_MODEL_4c8956fef62548f39f453ab4c0d07c5e"
          }
        },
        "6374ad207a1e4e6ab361722c9fe5c4d5": {
          "model_module": "@jupyter-widgets/controls",
          "model_name": "HTMLModel",
          "state": {
            "_view_name": "HTMLView",
            "style": "IPY_MODEL_7e0f813c2beb43faa43b05a9250b2ef3",
            "_dom_classes": [],
            "description": "",
            "_model_name": "HTMLModel",
            "placeholder": "​",
            "_view_module": "@jupyter-widgets/controls",
            "_model_module_version": "1.5.0",
            "value": " 150/150 [00:51&lt;00:00,  2.89it/s]",
            "_view_count": null,
            "_view_module_version": "1.5.0",
            "description_tooltip": null,
            "_model_module": "@jupyter-widgets/controls",
            "layout": "IPY_MODEL_8669d9ef037246f183b92f2b8e9aa47a"
          }
        },
        "0bd5e61a099f416fbb59ad331f11512a": {
          "model_module": "@jupyter-widgets/controls",
          "model_name": "ProgressStyleModel",
          "state": {
            "_view_name": "StyleView",
            "_model_name": "ProgressStyleModel",
            "description_width": "initial",
            "_view_module": "@jupyter-widgets/base",
            "_model_module_version": "1.5.0",
            "_view_count": null,
            "_view_module_version": "1.2.0",
            "bar_color": null,
            "_model_module": "@jupyter-widgets/controls"
          }
        },
        "4c8956fef62548f39f453ab4c0d07c5e": {
          "model_module": "@jupyter-widgets/base",
          "model_name": "LayoutModel",
          "state": {
            "_view_name": "LayoutView",
            "grid_template_rows": null,
            "right": null,
            "justify_content": null,
            "_view_module": "@jupyter-widgets/base",
            "overflow": null,
            "_model_module_version": "1.2.0",
            "_view_count": null,
            "flex_flow": null,
            "width": null,
            "min_width": null,
            "border": null,
            "align_items": null,
            "bottom": null,
            "_model_module": "@jupyter-widgets/base",
            "top": null,
            "grid_column": null,
            "overflow_y": null,
            "overflow_x": null,
            "grid_auto_flow": null,
            "grid_area": null,
            "grid_template_columns": null,
            "flex": null,
            "_model_name": "LayoutModel",
            "justify_items": null,
            "grid_row": null,
            "max_height": null,
            "align_content": null,
            "visibility": null,
            "align_self": null,
            "height": null,
            "min_height": null,
            "padding": null,
            "grid_auto_rows": null,
            "grid_gap": null,
            "max_width": null,
            "order": null,
            "_view_module_version": "1.2.0",
            "grid_template_areas": null,
            "object_position": null,
            "object_fit": null,
            "grid_auto_columns": null,
            "margin": null,
            "display": null,
            "left": null
          }
        },
        "7e0f813c2beb43faa43b05a9250b2ef3": {
          "model_module": "@jupyter-widgets/controls",
          "model_name": "DescriptionStyleModel",
          "state": {
            "_view_name": "StyleView",
            "_model_name": "DescriptionStyleModel",
            "description_width": "",
            "_view_module": "@jupyter-widgets/base",
            "_model_module_version": "1.5.0",
            "_view_count": null,
            "_view_module_version": "1.2.0",
            "_model_module": "@jupyter-widgets/controls"
          }
        },
        "8669d9ef037246f183b92f2b8e9aa47a": {
          "model_module": "@jupyter-widgets/base",
          "model_name": "LayoutModel",
          "state": {
            "_view_name": "LayoutView",
            "grid_template_rows": null,
            "right": null,
            "justify_content": null,
            "_view_module": "@jupyter-widgets/base",
            "overflow": null,
            "_model_module_version": "1.2.0",
            "_view_count": null,
            "flex_flow": null,
            "width": null,
            "min_width": null,
            "border": null,
            "align_items": null,
            "bottom": null,
            "_model_module": "@jupyter-widgets/base",
            "top": null,
            "grid_column": null,
            "overflow_y": null,
            "overflow_x": null,
            "grid_auto_flow": null,
            "grid_area": null,
            "grid_template_columns": null,
            "flex": null,
            "_model_name": "LayoutModel",
            "justify_items": null,
            "grid_row": null,
            "max_height": null,
            "align_content": null,
            "visibility": null,
            "align_self": null,
            "height": null,
            "min_height": null,
            "padding": null,
            "grid_auto_rows": null,
            "grid_gap": null,
            "max_width": null,
            "order": null,
            "_view_module_version": "1.2.0",
            "grid_template_areas": null,
            "object_position": null,
            "object_fit": null,
            "grid_auto_columns": null,
            "margin": null,
            "display": null,
            "left": null
          }
        }
      }
    },
    "accelerator": "GPU"
  },
  "cells": [
    {
      "cell_type": "markdown",
      "metadata": {
        "id": "view-in-github",
        "colab_type": "text"
      },
      "source": [
        "<a href=\"https://colab.research.google.com/github/nicoDs96/IoT-meteo_station/blob/master/Copy_of_UserActivityRecognition_IoTAss4.ipynb\" target=\"_parent\"><img src=\"https://colab.research.google.com/assets/colab-badge.svg\" alt=\"Open In Colab\"/></a>"
      ]
    },
    {
      "cell_type": "markdown",
      "metadata": {
        "id": "NA7acFOcBS9T",
        "colab_type": "text"
      },
      "source": [
        "# User Actvity Classification\n",
        "In this notebook I will try to resample an existing dataset to adapt it to mine accelerometer data (from 50 Hz to 1 Hz) and check if results are accetable."
      ]
    },
    {
      "cell_type": "code",
      "metadata": {
        "id": "loVmGc3KH6LE",
        "colab_type": "code",
        "outputId": "06de0b7a-4e17-4bcf-d6d7-26056d87c2ac",
        "colab": {
          "base_uri": "https://localhost:8080/",
          "height": 124
        }
      },
      "source": [
        "import pandas as pd\n",
        "import os\n",
        "from os import listdir\n",
        "from os.path import isfile, join\n",
        "from sklearn.model_selection import train_test_split\n",
        "import math\n",
        "import numpy as np\n",
        "import matplotlib.pyplot as plt\n",
        "import random\n",
        "import torch\n",
        "from torch.utils import data\n",
        "from torch import nn\n",
        "import torch.optim as optim\n",
        "import torch.nn.functional as F\n",
        "from tqdm import tqdm_notebook as tqdm\n",
        "from google.colab import drive\n",
        "drive.mount('/content/drive')"
      ],
      "execution_count": 0,
      "outputs": [
        {
          "output_type": "stream",
          "text": [
            "Go to this URL in a browser: https://accounts.google.com/o/oauth2/auth?client_id=947318989803-6bn6qk8qdgf4n4g3pfee6491hc0brc4i.apps.googleusercontent.com&redirect_uri=urn%3aietf%3awg%3aoauth%3a2.0%3aoob&response_type=code&scope=email%20https%3a%2f%2fwww.googleapis.com%2fauth%2fdocs.test%20https%3a%2f%2fwww.googleapis.com%2fauth%2fdrive%20https%3a%2f%2fwww.googleapis.com%2fauth%2fdrive.photos.readonly%20https%3a%2f%2fwww.googleapis.com%2fauth%2fpeopleapi.readonly\n",
            "\n",
            "Enter your authorization code:\n",
            "··········\n",
            "Mounted at /content/drive\n"
          ],
          "name": "stdout"
        }
      ]
    },
    {
      "cell_type": "markdown",
      "metadata": {
        "id": "kc-4GVQMBqi_",
        "colab_type": "text"
      },
      "source": [
        "The dataset has a strange strucutre: one file with raw accelerometer data for each experiment. A separate file with labels for range of values from the raw data. Here we aggregate those data and obtain a dataset with columns:\n",
        "  x         y         z  exp_nr  activity_nr  activity_nr_2_class\n",
        "\n",
        "  were x,y,z are the raw data, exp_nr (useless), activity nr is the original label, activity_nr_2_class is the aggregated label.\n",
        "\n",
        "  Original Label are :\n",
        "  \n",
        "      \"1\": \"WALKING\",\n",
        "      \"2\": \"WALKING_UPSTAIRS\",  \n",
        "      \"3\": \"WALKING_DOWNSTAIRS\",\n",
        "      \"4\": \"SITTING\", \n",
        "      \"5\": \"STANDING\",          \n",
        "      \"6\": \"LAYING\",      \n",
        "      \"7\": \"STAND_TO_SIT\",      \n",
        "      \"8\": \"SIT_TO_STAND\",     \n",
        "      \"9\": \"SIT_TO_LIE\",        \n",
        "     \"10\": \"LIE_TO_SIT\",        \n",
        "     \"11\": \"STAND_TO_LIE\",      \n",
        "     \"12\": \"LIE_TO_STAND\"   \n",
        "\n",
        "New label maps 1-3 to 0 (Moving), 4-6 to 1 (Laying) 7-12 NaN.     "
      ]
    },
    {
      "cell_type": "code",
      "metadata": {
        "id": "MkZNNfZFITfB",
        "colab_type": "code",
        "outputId": "9cca4336-9298-4ed0-89fa-41c75049f9c1",
        "colab": {
          "base_uri": "https://localhost:8080/",
          "height": 526
        }
      },
      "source": [
        "# READ DATASET or Aggregate It\n",
        "\n",
        "path = '/content/drive/My Drive/SAP/IoT/dataset/' \n",
        "mypath= '/content/drive/My Drive/SAP/IoT/dataset/acc/'\n",
        "action_dict = {\n",
        "      \"1\": \"WALKING\",\n",
        "      \"2\": \"WALKING_UPSTAIRS\",  \n",
        "      \"3\": \"WALKING_DOWNSTAIRS\",\n",
        "      \"4\": \"SITTING\", \n",
        "      \"5\": \"STANDING\",          \n",
        "      \"6\": \"LAYING\",      \n",
        "      \"7\": \"STAND_TO_SIT\",      \n",
        "      \"8\": \"SIT_TO_STAND\",     \n",
        "      \"9\": \"SIT_TO_LIE\",        \n",
        "     \"10\": \"LIE_TO_SIT\",        \n",
        "     \"11\": \"STAND_TO_LIE\",      \n",
        "     \"12\": \"LIE_TO_STAND\"      \n",
        "  }\n",
        "\n",
        "if os.path.isfile(path+'labelled_dataset.csv'):\n",
        "  df = pd.read_csv(path+'labelled_dataset.csv')\n",
        "else:\n",
        "  \n",
        "  acc_file_raw = [f for f in listdir(mypath) if isfile(join(mypath, f))]   \n",
        "  label_df = pd.read_csv(path+\"labels.txt\", sep=\" \", names=[\"exp_nr\",\"user_nr\",\"activity_nr\",\"start_point\",\"end_point\"])\n",
        "  \n",
        "  df_final = pd.DataFrame({\"x\":[],\"y\":[],\"z\":[],\"exp_nr\":[],\"activity_nr\":[],\"activity_nr_2_class\":[]})\n",
        "\n",
        "  for name in tqdm(acc_file_raw):\n",
        "    exp_nr = int(name.split(\"_\")[1][3:5:]) #extract exp number\n",
        "    experiment_df = pd.read_csv(mypath+name, sep=\" \") #read raw data\n",
        "    experiment_df.columns = ['x','y','z']\n",
        "    \n",
        "    #LABEL RAW DATA:\n",
        "    # for each row extract activity, start, stop, then filter experiment_df and \n",
        "    # append the final record to df_final\n",
        "    for index, row in label_df[label_df[\"exp_nr\"]==exp_nr].iterrows():\n",
        "      activity = row['activity_nr']\n",
        "      start_idx = row['start_point']\n",
        "      end_idx = row['end_point']\n",
        "      df_filt = pd.DataFrame(experiment_df.iloc[start_idx:end_idx])\n",
        "      df_filt['exp_nr'] = exp_nr\n",
        "      df_filt['activity_nr'] = activity\n",
        "      \n",
        "      two_class = 0\n",
        "      if(activity < 4):\n",
        "        two_class = 0 #moving\n",
        "      elif(activity < 7):\n",
        "        two_class = 1 #laying\n",
        "      else:\n",
        "        two_class = float('nan')\n",
        "\n",
        "      df_filt['activity_nr_2_class'] = two_class\n",
        "      \n",
        "      df_final = df_final.append(df_filt, ignore_index=True)\n",
        "      \n",
        "  #print(df_final.head())\n",
        "  df_final.to_csv(path+'labelled_dataset.csv', index=False)\n",
        "  df = df_final\n",
        "  del df_final  \n",
        "\n",
        "print(df.head())\n",
        "print(\"\")\n",
        "print(df.tail())\n",
        "df.describe()    "
      ],
      "execution_count": 0,
      "outputs": [
        {
          "output_type": "stream",
          "text": [
            "          x         y         z  exp_nr  activity_nr  activity_nr_2_class\n",
            "0  1.025000 -0.125000  0.101389     1.0          5.0                  1.0\n",
            "1  1.020833 -0.125000  0.104167     1.0          5.0                  1.0\n",
            "2  1.016667 -0.125000  0.108333     1.0          5.0                  1.0\n",
            "3  1.018056 -0.127778  0.108333     1.0          5.0                  1.0\n",
            "4  1.018056 -0.129167  0.104167     1.0          5.0                  1.0\n",
            "\n",
            "               x         y         z  exp_nr  activity_nr  activity_nr_2_class\n",
            "814395  0.880556 -0.390278 -0.156944    61.0          2.0                  0.0\n",
            "814396  0.834722 -0.358333 -0.098611    61.0          2.0                  0.0\n",
            "814397  0.802778 -0.329167 -0.104167    61.0          2.0                  0.0\n",
            "814398  0.770833 -0.287500 -0.098611    61.0          2.0                  0.0\n",
            "814399  0.718056 -0.268056 -0.055556    61.0          2.0                  0.0\n"
          ],
          "name": "stdout"
        },
        {
          "output_type": "execute_result",
          "data": {
            "text/html": [
              "<div>\n",
              "<style scoped>\n",
              "    .dataframe tbody tr th:only-of-type {\n",
              "        vertical-align: middle;\n",
              "    }\n",
              "\n",
              "    .dataframe tbody tr th {\n",
              "        vertical-align: top;\n",
              "    }\n",
              "\n",
              "    .dataframe thead th {\n",
              "        text-align: right;\n",
              "    }\n",
              "</style>\n",
              "<table border=\"1\" class=\"dataframe\">\n",
              "  <thead>\n",
              "    <tr style=\"text-align: right;\">\n",
              "      <th></th>\n",
              "      <th>x</th>\n",
              "      <th>y</th>\n",
              "      <th>z</th>\n",
              "      <th>exp_nr</th>\n",
              "      <th>activity_nr</th>\n",
              "      <th>activity_nr_2_class</th>\n",
              "    </tr>\n",
              "  </thead>\n",
              "  <tbody>\n",
              "    <tr>\n",
              "      <th>count</th>\n",
              "      <td>814400.000000</td>\n",
              "      <td>814400.000000</td>\n",
              "      <td>814400.000000</td>\n",
              "      <td>814400.000000</td>\n",
              "      <td>814400.000000</td>\n",
              "      <td>747550.000000</td>\n",
              "    </tr>\n",
              "    <tr>\n",
              "      <th>mean</th>\n",
              "      <td>0.806492</td>\n",
              "      <td>0.032874</td>\n",
              "      <td>0.087617</td>\n",
              "      <td>32.256451</td>\n",
              "      <td>4.101631</td>\n",
              "      <td>0.536803</td>\n",
              "    </tr>\n",
              "    <tr>\n",
              "      <th>std</th>\n",
              "      <td>0.409179</td>\n",
              "      <td>0.405612</td>\n",
              "      <td>0.345857</td>\n",
              "      <td>17.728574</td>\n",
              "      <td>2.395082</td>\n",
              "      <td>0.498644</td>\n",
              "    </tr>\n",
              "    <tr>\n",
              "      <th>min</th>\n",
              "      <td>-0.647222</td>\n",
              "      <td>-1.698611</td>\n",
              "      <td>-1.837500</td>\n",
              "      <td>1.000000</td>\n",
              "      <td>1.000000</td>\n",
              "      <td>0.000000</td>\n",
              "    </tr>\n",
              "    <tr>\n",
              "      <th>25%</th>\n",
              "      <td>0.675000</td>\n",
              "      <td>-0.223611</td>\n",
              "      <td>-0.119444</td>\n",
              "      <td>17.000000</td>\n",
              "      <td>2.000000</td>\n",
              "      <td>0.000000</td>\n",
              "    </tr>\n",
              "    <tr>\n",
              "      <th>50%</th>\n",
              "      <td>0.950000</td>\n",
              "      <td>-0.072222</td>\n",
              "      <td>0.045833</td>\n",
              "      <td>34.000000</td>\n",
              "      <td>4.000000</td>\n",
              "      <td>1.000000</td>\n",
              "    </tr>\n",
              "    <tr>\n",
              "      <th>75%</th>\n",
              "      <td>1.019445</td>\n",
              "      <td>0.213889</td>\n",
              "      <td>0.238889</td>\n",
              "      <td>48.000000</td>\n",
              "      <td>5.000000</td>\n",
              "      <td>1.000000</td>\n",
              "    </tr>\n",
              "    <tr>\n",
              "      <th>max</th>\n",
              "      <td>2.004167</td>\n",
              "      <td>1.716667</td>\n",
              "      <td>1.502778</td>\n",
              "      <td>61.000000</td>\n",
              "      <td>12.000000</td>\n",
              "      <td>1.000000</td>\n",
              "    </tr>\n",
              "  </tbody>\n",
              "</table>\n",
              "</div>"
            ],
            "text/plain": [
              "                   x              y  ...    activity_nr  activity_nr_2_class\n",
              "count  814400.000000  814400.000000  ...  814400.000000        747550.000000\n",
              "mean        0.806492       0.032874  ...       4.101631             0.536803\n",
              "std         0.409179       0.405612  ...       2.395082             0.498644\n",
              "min        -0.647222      -1.698611  ...       1.000000             0.000000\n",
              "25%         0.675000      -0.223611  ...       2.000000             0.000000\n",
              "50%         0.950000      -0.072222  ...       4.000000             1.000000\n",
              "75%         1.019445       0.213889  ...       5.000000             1.000000\n",
              "max         2.004167       1.716667  ...      12.000000             1.000000\n",
              "\n",
              "[8 rows x 6 columns]"
            ]
          },
          "metadata": {
            "tags": []
          },
          "execution_count": 2
        }
      ]
    },
    {
      "cell_type": "markdown",
      "metadata": {
        "id": "dRmSLnrxCzGT",
        "colab_type": "text"
      },
      "source": [
        "Here we discard data with activity_2_class == NaN and then we aggregate data: 50 sample windows (1sec at 50 Hz) is built and averaged to reduce at 1 Hz (1 sample)."
      ]
    },
    {
      "cell_type": "code",
      "metadata": {
        "id": "N9kp4XojqoSG",
        "colab_type": "code",
        "outputId": "3639badf-406c-4b3d-be96-77ce4364ba57",
        "colab": {
          "base_uri": "https://localhost:8080/",
          "height": 206
        }
      },
      "source": [
        "_df=pd.DataFrame()\n",
        "moving_reocrds = df[df['activity_nr_2_class']==0]\n",
        "laying_record = df[df['activity_nr_2_class']==1]\n",
        "sample_size = min(len(moving_reocrds),len(laying_record))\n",
        "#make class number uniform\n",
        "_df = _df.append(moving_reocrds.sample(sample_size), ignore_index=True).append(laying_record.sample(sample_size), ignore_index=True)\n",
        "\n",
        "\n",
        "\n",
        "\n",
        "df_second_aggregated = pd.DataFrame()\n",
        "\n",
        "for count in range(0,len(_df)-50,50):\n",
        "  sec_interval = pd.DataFrame(_df.iloc[count:count+50])\n",
        "  df_second_aggregated = df_second_aggregated.append(pd.DataFrame([[ sec_interval['x'].mean(), sec_interval['y'].mean(), sec_interval['z'].mean(), sec_interval['activity_nr'].iloc[0], sec_interval['activity_nr_2_class'].iloc[0]     ]]))\n",
        "\n",
        "df_second_aggregated.columns=[\"x\",\"y\",\"z\",\"activity_nr\",\"activity_nr_2_class\"]\n",
        "df_second_aggregated.head()"
      ],
      "execution_count": 0,
      "outputs": [
        {
          "output_type": "execute_result",
          "data": {
            "text/html": [
              "<div>\n",
              "<style scoped>\n",
              "    .dataframe tbody tr th:only-of-type {\n",
              "        vertical-align: middle;\n",
              "    }\n",
              "\n",
              "    .dataframe tbody tr th {\n",
              "        vertical-align: top;\n",
              "    }\n",
              "\n",
              "    .dataframe thead th {\n",
              "        text-align: right;\n",
              "    }\n",
              "</style>\n",
              "<table border=\"1\" class=\"dataframe\">\n",
              "  <thead>\n",
              "    <tr style=\"text-align: right;\">\n",
              "      <th></th>\n",
              "      <th>x</th>\n",
              "      <th>y</th>\n",
              "      <th>z</th>\n",
              "      <th>activity_nr</th>\n",
              "      <th>activity_nr_2_class</th>\n",
              "    </tr>\n",
              "  </thead>\n",
              "  <tbody>\n",
              "    <tr>\n",
              "      <th>0</th>\n",
              "      <td>0.990806</td>\n",
              "      <td>-0.191778</td>\n",
              "      <td>-0.055722</td>\n",
              "      <td>1.0</td>\n",
              "      <td>0.0</td>\n",
              "    </tr>\n",
              "    <tr>\n",
              "      <th>0</th>\n",
              "      <td>1.050278</td>\n",
              "      <td>-0.277500</td>\n",
              "      <td>-0.086528</td>\n",
              "      <td>3.0</td>\n",
              "      <td>0.0</td>\n",
              "    </tr>\n",
              "    <tr>\n",
              "      <th>0</th>\n",
              "      <td>0.963861</td>\n",
              "      <td>-0.173639</td>\n",
              "      <td>-0.136917</td>\n",
              "      <td>1.0</td>\n",
              "      <td>0.0</td>\n",
              "    </tr>\n",
              "    <tr>\n",
              "      <th>0</th>\n",
              "      <td>1.091194</td>\n",
              "      <td>-0.226167</td>\n",
              "      <td>-0.090472</td>\n",
              "      <td>1.0</td>\n",
              "      <td>0.0</td>\n",
              "    </tr>\n",
              "    <tr>\n",
              "      <th>0</th>\n",
              "      <td>0.987417</td>\n",
              "      <td>-0.180694</td>\n",
              "      <td>-0.070333</td>\n",
              "      <td>1.0</td>\n",
              "      <td>0.0</td>\n",
              "    </tr>\n",
              "  </tbody>\n",
              "</table>\n",
              "</div>"
            ],
            "text/plain": [
              "          x         y         z  activity_nr  activity_nr_2_class\n",
              "0  0.990806 -0.191778 -0.055722          1.0                  0.0\n",
              "0  1.050278 -0.277500 -0.086528          3.0                  0.0\n",
              "0  0.963861 -0.173639 -0.136917          1.0                  0.0\n",
              "0  1.091194 -0.226167 -0.090472          1.0                  0.0\n",
              "0  0.987417 -0.180694 -0.070333          1.0                  0.0"
            ]
          },
          "metadata": {
            "tags": []
          },
          "execution_count": 89
        }
      ]
    },
    {
      "cell_type": "markdown",
      "metadata": {
        "id": "pNBN04h2DYb9",
        "colab_type": "text"
      },
      "source": [
        "we can see how data size reduces drastically"
      ]
    },
    {
      "cell_type": "code",
      "metadata": {
        "id": "4axqpZVpQpWY",
        "colab_type": "code",
        "outputId": "b0712994-d1c0-4dcb-c322-96103431451b",
        "colab": {
          "base_uri": "https://localhost:8080/",
          "height": 173
        }
      },
      "source": [
        "print(df_second_aggregated[df_second_aggregated['activity_nr_2_class']==0].describe())"
      ],
      "execution_count": 0,
      "outputs": [
        {
          "output_type": "stream",
          "text": [
            "                 x            y            z  activity_nr  activity_nr_2_class\n",
            "count  6926.000000  6926.000000  6926.000000  6926.000000               6926.0\n",
            "mean      0.982050    -0.201356    -0.088072     1.952209                  0.0\n",
            "std       0.042196     0.031043     0.033032     0.813353                  0.0\n",
            "min       0.764028    -0.333583    -0.207722     1.000000                  0.0\n",
            "25%       0.953646    -0.221944    -0.110556     1.000000                  0.0\n",
            "50%       0.982056    -0.200889    -0.087486     2.000000                  0.0\n",
            "75%       1.010028    -0.180417    -0.065500     3.000000                  0.0\n",
            "max       1.128111     0.121194     0.148444     3.000000                  0.0\n"
          ],
          "name": "stdout"
        }
      ]
    },
    {
      "cell_type": "code",
      "metadata": {
        "id": "Ydq-1j2JREhB",
        "colab_type": "code",
        "outputId": "0cb35354-bb22-4738-bdb7-b241ca7619d6",
        "colab": {
          "base_uri": "https://localhost:8080/",
          "height": 173
        }
      },
      "source": [
        "print(df_second_aggregated[df_second_aggregated['activity_nr_2_class']==1].describe())"
      ],
      "execution_count": 0,
      "outputs": [
        {
          "output_type": "stream",
          "text": [
            "                 x            y            z  activity_nr  activity_nr_2_class\n",
            "count  6924.000000  6924.000000  6924.000000  6924.000000               6924.0\n",
            "mean      0.669180     0.201141     0.223764     5.026863                  1.0\n",
            "std       0.062571     0.059172     0.050744     0.809181                  0.0\n",
            "min       0.430278    -0.031944     0.044889     4.000000                  1.0\n",
            "25%       0.626361     0.162167     0.189083     4.000000                  1.0\n",
            "50%       0.670556     0.200306     0.223917     5.000000                  1.0\n",
            "75%       0.711590     0.241056     0.257674     6.000000                  1.0\n",
            "max       0.876111     0.433944     0.413528     6.000000                  1.0\n"
          ],
          "name": "stdout"
        }
      ]
    },
    {
      "cell_type": "code",
      "metadata": {
        "id": "_y3YCpOERrVJ",
        "colab_type": "code",
        "colab": {}
      },
      "source": [
        "df_second_aggregated.to_csv(path+'second_agg_lab_dataset.csv', index=False)"
      ],
      "execution_count": 0,
      "outputs": []
    },
    {
      "cell_type": "markdown",
      "metadata": {
        "id": "stZjx5A9DdRk",
        "colab_type": "text"
      },
      "source": [
        "Create train and test subsets"
      ]
    },
    {
      "cell_type": "code",
      "metadata": {
        "id": "eRA9Vob3Lrr_",
        "colab_type": "code",
        "outputId": "54b5e131-1416-4143-f01b-9c987043e3fb",
        "colab": {
          "base_uri": "https://localhost:8080/",
          "height": 86
        }
      },
      "source": [
        "# train test split\n",
        "X_train, X_test, y_train, y_test = train_test_split( df_second_aggregated[[\"x\",\"y\",\"z\"]], df_second_aggregated[['activity_nr_2_class']], test_size=0.3, random_state=42)\n",
        "\n",
        "print(\"X_train: %s\\nX_test: %s\\ny_train: %s\\ny_test: %s\"%(X_train.shape, X_test.shape, y_train.shape, y_test.shape))"
      ],
      "execution_count": 0,
      "outputs": [
        {
          "output_type": "stream",
          "text": [
            "X_train: (9695, 3)\n",
            "X_test: (4155, 3)\n",
            "y_train: (9695, 1)\n",
            "y_test: (4155, 1)\n"
          ],
          "name": "stdout"
        }
      ]
    },
    {
      "cell_type": "markdown",
      "metadata": {
        "id": "P8hnrg7eIcxJ",
        "colab_type": "text"
      },
      "source": [
        "# Pytorch"
      ]
    },
    {
      "cell_type": "markdown",
      "metadata": {
        "id": "iTDBlBfIDgv5",
        "colab_type": "text"
      },
      "source": [
        "set training using CUDA"
      ]
    },
    {
      "cell_type": "code",
      "metadata": {
        "id": "fU_r6ComK6AY",
        "colab_type": "code",
        "outputId": "b4cdd927-e866-46e8-afdd-c9039fff0762",
        "colab": {
          "base_uri": "https://localhost:8080/",
          "height": 34
        }
      },
      "source": [
        "# Set CUDA training if CUDA is availabe\n",
        "device = torch.device(\"cuda\" if torch.cuda.is_available() else \"cpu\")\n",
        "print(\"Using Device:\\t\" + str(device))\n"
      ],
      "execution_count": 0,
      "outputs": [
        {
          "output_type": "stream",
          "text": [
            "Using Device:\tcuda\n"
          ],
          "name": "stdout"
        }
      ]
    },
    {
      "cell_type": "markdown",
      "metadata": {
        "id": "PAMsNr9gDlha",
        "colab_type": "text"
      },
      "source": [
        "Our CNN will take as input data of shape (BATCH_SIZE,CHANNEL_IN,VALUE) and I have engineered feature st. shape is (BATCH_SIZE,3,1), where each channel is an axes of the accelerator. Then we use datautils of pytorch to split data into batches."
      ]
    },
    {
      "cell_type": "code",
      "metadata": {
        "id": "_QD8cJ4xrk1R",
        "colab_type": "code",
        "outputId": "08f7df74-b26b-4bb6-8bac-c21bdc77a18f",
        "colab": {
          "base_uri": "https://localhost:8080/",
          "height": 156
        }
      },
      "source": [
        "CHANNELS_IN = 3\n",
        "SEQUENCE_SIZE = 1\n",
        "\n",
        "# Reshape data to match conv1d input shape\n",
        "X_train = np.array(X_train).reshape(X_train.shape[0],CHANNELS_IN,SEQUENCE_SIZE)\n",
        "X_test = np.array(X_test).reshape(X_test.shape[0],CHANNELS_IN,SEQUENCE_SIZE)\n",
        "y_train = np.array(y_train)\n",
        "y_test = np.array(y_test)\n",
        "# transorm array into tensor\n",
        "X_train = torch.from_numpy(X_train).float()\n",
        "X_test = torch.from_numpy(X_test).float()\n",
        "y_train = torch.from_numpy(y_train).float()\n",
        "y_test = torch.from_numpy(y_test).float()\n",
        "\n",
        "#create a 3 second window\n",
        "X_train = X_train[0:int(X_train.shape[0]/3)*3]\n",
        "X_train = X_train.view(-1,3,3)\n",
        "\n",
        "#sample the labels according to the window\n",
        "y_train = y_train[0:int(y_train.shape[0]/3)*3:3]\n",
        "\n",
        "\n",
        "X_test = X_test[0:int(X_test.shape[0]/3)*3]\n",
        "X_test = X_test.view(-1,3,3)\n",
        "y_test = y_test[0:int(y_test.shape[0]/3)*3:3]\n",
        "\n",
        "print(X_train.shape)\n",
        "print(y_train.shape)\n",
        "\n",
        "print(X_test.shape)\n",
        "print(y_test.shape)\n",
        "# get a data loader and divide data into batches\n",
        "train_data = data.TensorDataset(X_train, y_train) \n",
        "test_data = data.TensorDataset(X_test, y_test)\n",
        "\n",
        "print(train_data[0]) \n",
        "print(len(train_data))\n",
        "\n",
        "train_data_loader = data.DataLoader(train_data, batch_size=16, shuffle=True)\n",
        "test_data_loader = data.DataLoader(test_data, batch_size=16, shuffle=True)"
      ],
      "execution_count": 0,
      "outputs": [
        {
          "output_type": "stream",
          "text": [
            "torch.Size([3231, 3, 3])\n",
            "torch.Size([3231, 1])\n",
            "torch.Size([1385, 3, 3])\n",
            "torch.Size([1385, 1])\n",
            "(tensor([[ 1.0493, -0.2107, -0.0848],\n",
            "        [ 1.0318, -0.2260, -0.0497],\n",
            "        [ 0.9278, -0.1947, -0.0853]]), tensor([0.]))\n",
            "3231\n"
          ],
          "name": "stdout"
        }
      ]
    },
    {
      "cell_type": "markdown",
      "metadata": {
        "id": "uNIht9j7D9m3",
        "colab_type": "text"
      },
      "source": [
        "Here we have defined two different models"
      ]
    },
    {
      "cell_type": "code",
      "metadata": {
        "id": "WHa6mvSqIaJx",
        "colab_type": "code",
        "colab": {}
      },
      "source": [
        "# Define the NN model\n",
        "\n",
        "class ConvNet(nn.Module):\n",
        "    def __init__(self, seq_len_in, out_dim, kernel_size=8):\n",
        "        super(ConvNet, self).__init__()\n",
        "        \n",
        "        n_filters=64\n",
        "        max_pool_kernel=2\n",
        "        \n",
        "        self.conv1 = nn.Conv1d(CHANNELS_IN, n_filters, kernel_size, padding=5)\n",
        "        self.maxPool = nn.MaxPool1d(max_pool_kernel, stride= 1 )\n",
        "        self.drop_layer = nn.Dropout(0.6)\n",
        "        self.LRelu = nn.LeakyReLU()\n",
        "        self.sigmoid = nn.Sigmoid()\n",
        "        \n",
        "        self.conv2 = nn.Conv1d(n_filters, n_filters, kernel_size//4 )\n",
        "\n",
        "        self.hidden_dim = n_filters *((((seq_len_in +2*5 - kernel_size +1) - max_pool_kernel +1) -kernel_size//4 + 1) - max_pool_kernel +1)\n",
        "        #self.hidden_dim = 64;\n",
        "\n",
        "        self.lin_layer = nn.Linear(self.hidden_dim, self.hidden_dim)\n",
        "        self.out_layer = nn.Linear(self.hidden_dim, out_dim)\n",
        "        \n",
        "        \n",
        "\n",
        "    def forward(self,x):\n",
        "        \n",
        "        c1_out =  self.conv1(x)  \n",
        "        max_pool_1 = self.maxPool( self.LRelu(c1_out) )       \n",
        "        c2_out = self.drop_layer(self.conv2( max_pool_1 ))     \n",
        "        max_pool_2 =  self.maxPool( self.LRelu(c2_out) )\n",
        "        \n",
        "        # flatten data    \n",
        "        max_pool_2 = max_pool_2.view(-1,self.hidden_dim)\n",
        "        \n",
        "        return self.LRelu( self.drop_layer(self.out_layer( \n",
        "            self.LRelu(self.drop_layer(self.lin_layer(max_pool_2))) \n",
        "            )))\n",
        "        \n",
        "\n",
        "class ConvNet2(nn.Module):\n",
        "    def __init__(self, seq_len_in, out_dim, kernel_size=3):\n",
        "        super(ConvNet2, self).__init__()\n",
        "        \n",
        "        n_filters=64\n",
        "        max_pool_kernel=2\n",
        "        \n",
        "        self.conv1 = nn.Conv1d(CHANNELS_IN, n_filters, kernel_size, padding=1)\n",
        "        self.maxPool = nn.MaxPool1d(max_pool_kernel, stride= 1 )\n",
        "        self.drop_layer = nn.Dropout(0.6)\n",
        "        self.LRelu = nn.LeakyReLU()\n",
        "        self.sigmoid = nn.Sigmoid()\n",
        "        \n",
        "      \n",
        "        self.hidden_dim = n_filters *((seq_len_in +2*1 - kernel_size +1) - max_pool_kernel +1)\n",
        "        \n",
        "        #self.hidden_dim = n_filters *((((seq_len_in +2*1 - kernel_size +1) - max_pool_kernel +1) -kernel_size//4 + 1) - max_pool_kernel +1)\n",
        "        #self.hidden_dim = 64;\n",
        "\n",
        "        self.lin_layer = nn.Linear(self.hidden_dim, self.hidden_dim)\n",
        "        self.out_layer = nn.Linear(self.hidden_dim, out_dim)\n",
        "        \n",
        "        \n",
        "\n",
        "    def forward(self,x):\n",
        "        \n",
        "        c1_out =  self.conv1(x)  \n",
        "        max_pool_1 = self.maxPool( self.LRelu(c1_out) )       \n",
        "        \n",
        "        # flatten data    \n",
        "        max_pool_1 = max_pool_1.view(-1,self.hidden_dim)\n",
        "      \n",
        "        \n",
        "        return self.sigmoid( self.drop_layer(self.out_layer( \n",
        "            self.LRelu(self.drop_layer(self.lin_layer(max_pool_1))) \n",
        "            )))\n",
        "\n"
      ],
      "execution_count": 0,
      "outputs": []
    },
    {
      "cell_type": "markdown",
      "metadata": {
        "id": "_9mdqzrIEGDb",
        "colab_type": "text"
      },
      "source": [
        "here we define the optimizer, learning rate and loss funciton"
      ]
    },
    {
      "cell_type": "code",
      "metadata": {
        "id": "5P512jWqLG46",
        "colab_type": "code",
        "colab": {}
      },
      "source": [
        "seq_len_in, out_dim = 3,1\n",
        "\n",
        "#net = ConvNet(seq_len_in,out_dim).to(device)\n",
        "net = ConvNet2(seq_len_in,out_dim).to(device)\n",
        "\n",
        "\n",
        "criterion = nn.MSELoss()\n",
        "#criterion =  nn.BCEWithLogitsLoss\n",
        "#opt = optim.Adam(net.parameters(), lr=0.001)\n",
        "opt = optim.SGD(net.parameters(), lr=0.01, momentum=0.9)\n"
      ],
      "execution_count": 0,
      "outputs": []
    },
    {
      "cell_type": "markdown",
      "metadata": {
        "id": "eblbHMXVEKeT",
        "colab_type": "text"
      },
      "source": [
        "Train the network"
      ]
    },
    {
      "cell_type": "code",
      "metadata": {
        "id": "5W2R-SQupwcl",
        "colab_type": "code",
        "outputId": "9c896bec-501a-413c-bd47-b8d79be42d62",
        "colab": {
          "base_uri": "https://localhost:8080/",
          "height": 118,
          "referenced_widgets": [
            "b6f018fab43e47d0a9cbc8620ce4685f",
            "c6a5ec1fdac140408614e3cade3e1e5d",
            "f942fd82753b4ff2b9b5cf0a6b364a1d",
            "6374ad207a1e4e6ab361722c9fe5c4d5",
            "0bd5e61a099f416fbb59ad331f11512a",
            "4c8956fef62548f39f453ab4c0d07c5e",
            "7e0f813c2beb43faa43b05a9250b2ef3",
            "8669d9ef037246f183b92f2b8e9aa47a"
          ]
        }
      },
      "source": [
        "# TRAINING LOOP\n",
        "net.to(device)\n",
        "EPOCH_NR = 150\n",
        "losses = []\n",
        "epoch_losses = []\n",
        "for epoch in tqdm(range(EPOCH_NR)):\n",
        "  net.train()\n",
        "  running_loss = 0.0\n",
        "  i = 0\n",
        "  for Xb, yb in train_data_loader: #extracts batches from the dataset\n",
        "    Xb, yb = Xb.to(device), yb.to(device) \n",
        "    \n",
        "    # TRAIN STEP\n",
        "    net.train()\n",
        "\n",
        "    y_pred = net(Xb)\n",
        "\n",
        "    #loss_batch = criterion(y_pred, torch.max(yb, 1)[1])\n",
        "   \n",
        "    loss_batch = criterion(y_pred, yb)\n",
        "\n",
        "    loss_batch.backward()\n",
        "\n",
        "    opt.step()\n",
        "\n",
        "    opt.zero_grad()\n",
        "    \n",
        "    \n",
        "\n",
        "    i = i+1\n",
        "    # SAVE STATS\n",
        "    losses.append(loss_batch.cpu().data.numpy())\n",
        "    \n",
        "    running_loss += loss_batch.item()\n",
        "    if i % 1000 == 999:    # print every 1000 mini-batches\n",
        "        print('[%d, %5d] loss: %.3f' %\n",
        "              (epoch + 1, i + 1, running_loss / 2000))\n",
        "        running_loss = 0.0\n",
        "\n",
        "  epoch_losses.append(running_loss)"
      ],
      "execution_count": 0,
      "outputs": [
        {
          "output_type": "stream",
          "text": [
            "/usr/local/lib/python3.6/dist-packages/ipykernel_launcher.py:6: TqdmDeprecationWarning: This function will be removed in tqdm==5.0.0\n",
            "Please use `tqdm.notebook.tqdm` instead of `tqdm.tqdm_notebook`\n",
            "  \n"
          ],
          "name": "stderr"
        },
        {
          "output_type": "display_data",
          "data": {
            "application/vnd.jupyter.widget-view+json": {
              "model_id": "b6f018fab43e47d0a9cbc8620ce4685f",
              "version_minor": 0,
              "version_major": 2
            },
            "text/plain": [
              "HBox(children=(FloatProgress(value=0.0, max=150.0), HTML(value='')))"
            ]
          },
          "metadata": {
            "tags": []
          }
        },
        {
          "output_type": "stream",
          "text": [
            "\n"
          ],
          "name": "stdout"
        }
      ]
    },
    {
      "cell_type": "markdown",
      "metadata": {
        "id": "T3z0t0YxENmW",
        "colab_type": "text"
      },
      "source": [
        "Plot result: convergence after 20 Epoch and bad performances   :`(   "
      ]
    },
    {
      "cell_type": "code",
      "metadata": {
        "id": "5NEhxDF9Efwc",
        "colab_type": "code",
        "outputId": "390fdcba-8e50-450c-8fc5-4c78ccab91ee",
        "colab": {
          "base_uri": "https://localhost:8080/",
          "height": 282
        }
      },
      "source": [
        "plt.plot(epoch_losses)"
      ],
      "execution_count": 0,
      "outputs": [
        {
          "output_type": "execute_result",
          "data": {
            "text/plain": [
              "[<matplotlib.lines.Line2D at 0x7f5cfaf95dd8>]"
            ]
          },
          "metadata": {
            "tags": []
          },
          "execution_count": 176
        },
        {
          "output_type": "display_data",
          "data": {
            "image/png": "[encoded data removed]",
            "text/plain": [
              "<Figure size 432x288 with 1 Axes>"
            ]
          },
          "metadata": {
            "tags": [],
            "needs_background": "light"
          }
        }
      ]
    },
    {
      "cell_type": "markdown",
      "metadata": {
        "id": "5v7bAjn7EfU5",
        "colab_type": "text"
      },
      "source": [
        "Train Test Accurcay "
      ]
    },
    {
      "cell_type": "code",
      "metadata": {
        "id": "xDrgTZ4Hp4Fl",
        "colab_type": "code",
        "outputId": "8f2bf903-4852-448d-e794-fbbe0dcf65a7",
        "colab": {
          "base_uri": "https://localhost:8080/",
          "height": 364
        }
      },
      "source": [
        "with torch.no_grad():\n",
        "\n",
        "  net.eval()\n",
        "  y_pred = net(X_train.to(device))\n",
        "  y_train = y_train.to(device)\n",
        "\n",
        "  print(y_pred.shape)\n",
        "  print(y_pred)\n",
        "  print(y_train)\n",
        "\n",
        "\n",
        "  correct = (y_pred.max(dim=1)[1] == y_train) \n",
        "  print('Train Acc')\n",
        "  print(torch.mean(correct.float()).item())\n",
        "\n",
        "with torch.no_grad():\n",
        "\n",
        "  net.eval()\n",
        "  y_pred = net(X_test.to(device))\n",
        "  y_test = y_test.to(device)\n",
        "\n",
        "  print(y_pred.shape)\n",
        "  correct = (y_pred.max(dim=1)[1] == y_test) \n",
        "  print('Test Acc')\n",
        "  print(torch.mean(correct.float()).item())\n",
        "\n"
      ],
      "execution_count": 0,
      "outputs": [
        {
          "output_type": "stream",
          "text": [
            "torch.Size([3231, 1])\n",
            "tensor([[0.0185],\n",
            "        [0.9954],\n",
            "        [0.9727],\n",
            "        ...,\n",
            "        [0.9888],\n",
            "        [0.0379],\n",
            "        [0.0219]], device='cuda:0')\n",
            "tensor([[0.],\n",
            "        [1.],\n",
            "        [1.],\n",
            "        ...,\n",
            "        [1.],\n",
            "        [0.],\n",
            "        [0.]], device='cuda:0')\n",
            "Train Acc\n",
            "0.5032497644424438\n",
            "torch.Size([1385, 1])\n",
            "Test Acc\n",
            "0.471480131149292\n"
          ],
          "name": "stdout"
        }
      ]
    },
    {
      "cell_type": "markdown",
      "metadata": {
        "id": "GbrhLBQ-EmCq",
        "colab_type": "text"
      },
      "source": [
        "Eventually export with ONNX (not working do do not export anything)"
      ]
    },
    {
      "cell_type": "code",
      "metadata": {
        "id": "gGLmol06Myz5",
        "colab_type": "code",
        "colab": {}
      },
      "source": [
        "#Save model (next export it)\n",
        "\n",
        "PATH = path+'net.pth'\n",
        "torch.save(net.state_dict(), PATH)"
      ],
      "execution_count": 0,
      "outputs": []
    }
  ]
}